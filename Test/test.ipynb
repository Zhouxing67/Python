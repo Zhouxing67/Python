{
 "cells": [
  {
   "cell_type": "code",
   "execution_count": 1,
   "id": "a6f342b9-0575-47ce-b40f-4163aabfc1c3",
   "metadata": {},
   "outputs": [
    {
     "name": "stdout",
     "output_type": "stream",
     "text": [
      "Hell oworld\n"
     ]
    }
   ],
   "source": [
    "print('Hello world')"
   ]
  },
  {
   "cell_type": "code",
   "execution_count": null,
   "id": "d53e5671-94ea-46fd-9fde-20ded70bcb54",
   "metadata": {},
   "outputs": [],
   "source": [
    "%pip install numpy pandas matplotlib"
   ]
  },
  {
   "cell_type": "code",
   "execution_count": 3,
   "id": "78dd1cbb-bce6-4f7f-80ba-31144d31ddf2",
   "metadata": {},
   "outputs": [
    {
     "name": "stdout",
     "output_type": "stream",
     "text": [
      "1 2 3 4 5 "
     ]
    }
   ],
   "source": [
    "import numpy as np\n",
    "import pandas as pd\n",
    "import matplotlib.pyplot as plt\n",
    "\n",
    "array1 = np.array([1, 2, 3, 4, 5])\n",
    "for i in range(len(array1)):\n",
    "    print(array1[i], end=' ')"
   ]
  },
  {
   "cell_type": "code",
   "execution_count": 1,
   "id": "bb77c3b7-1f06-404c-80a9-51f07194a65b",
   "metadata": {},
   "outputs": [
    {
     "name": "stdout",
     "output_type": "stream",
     "text": [
      "('.', ['.ipynb_checkpoints'], ['hell0.ipynb', 'hello.py', 'test.ipynb'])\n",
      "('.\\\\.ipynb_checkpoints', [], ['hell0-checkpoint.ipynb', 'test-checkpoint.ipynb'])\n"
     ]
    }
   ],
   "source": [
    "import os\n",
    "\n",
    "for item in os.walk(\".\"):\n",
    "    print(item)"
   ]
  }
 ],
 "metadata": {
  "kernelspec": {
   "display_name": "Python 3 (ipykernel)",
   "language": "python",
   "name": "python3"
  },
  "language_info": {
   "codemirror_mode": {
    "name": "ipython",
    "version": 3
   },
   "file_extension": ".py",
   "mimetype": "text/x-python",
   "name": "python",
   "nbconvert_exporter": "python",
   "pygments_lexer": "ipython3",
   "version": "3.11.4"
  }
 },
 "nbformat": 4,
 "nbformat_minor": 5
}
